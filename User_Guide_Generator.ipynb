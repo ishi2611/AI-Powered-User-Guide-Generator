{
  "nbformat": 4,
  "nbformat_minor": 0,
  "metadata": {
    "colab": {
      "provenance": [],
      "include_colab_link": true
    },
    "kernelspec": {
      "name": "python3",
      "display_name": "Python 3"
    },
    "language_info": {
      "name": "python"
    }
  },
  "cells": [
    {
      "cell_type": "markdown",
      "metadata": {
        "id": "view-in-github",
        "colab_type": "text"
      },
      "source": [
        "<a href=\"https://colab.research.google.com/github/ishi2611/User-Guide-Generator/blob/main/User_Guide_Generator.ipynb\" target=\"_parent\"><img src=\"https://colab.research.google.com/assets/colab-badge.svg\" alt=\"Open In Colab\"/></a>"
      ]
    },
    {
      "cell_type": "code",
      "source": [
        " !pip install --upgrade --quiet  langchain-core langchain-google-vertexai"
      ],
      "metadata": {
        "id": "Xl0fDrEfy9Fl"
      },
      "execution_count": null,
      "outputs": []
    },
    {
      "cell_type": "code",
      "source": [
        "!pip install langchain"
      ],
      "metadata": {
        "colab": {
          "base_uri": "https://localhost:8080/"
        },
        "id": "AFOzFlfjzBFz",
        "outputId": "f8e331e9-5454-4790-8402-aeff7a4352fc"
      },
      "execution_count": null,
      "outputs": [
        {
          "output_type": "stream",
          "name": "stdout",
          "text": [
            "Requirement already satisfied: langchain in /usr/local/lib/python3.10/dist-packages (0.1.5)\n",
            "Requirement already satisfied: PyYAML>=5.3 in /usr/local/lib/python3.10/dist-packages (from langchain) (6.0.1)\n",
            "Requirement already satisfied: SQLAlchemy<3,>=1.4 in /usr/local/lib/python3.10/dist-packages (from langchain) (2.0.25)\n",
            "Requirement already satisfied: aiohttp<4.0.0,>=3.8.3 in /usr/local/lib/python3.10/dist-packages (from langchain) (3.9.3)\n",
            "Requirement already satisfied: async-timeout<5.0.0,>=4.0.0 in /usr/local/lib/python3.10/dist-packages (from langchain) (4.0.3)\n",
            "Requirement already satisfied: dataclasses-json<0.7,>=0.5.7 in /usr/local/lib/python3.10/dist-packages (from langchain) (0.6.4)\n",
            "Requirement already satisfied: jsonpatch<2.0,>=1.33 in /usr/local/lib/python3.10/dist-packages (from langchain) (1.33)\n",
            "Requirement already satisfied: langchain-community<0.1,>=0.0.17 in /usr/local/lib/python3.10/dist-packages (from langchain) (0.0.18)\n",
            "Requirement already satisfied: langchain-core<0.2,>=0.1.16 in /usr/local/lib/python3.10/dist-packages (from langchain) (0.1.19)\n",
            "Requirement already satisfied: langsmith<0.1,>=0.0.83 in /usr/local/lib/python3.10/dist-packages (from langchain) (0.0.86)\n",
            "Requirement already satisfied: numpy<2,>=1 in /usr/local/lib/python3.10/dist-packages (from langchain) (1.23.5)\n",
            "Requirement already satisfied: pydantic<3,>=1 in /usr/local/lib/python3.10/dist-packages (from langchain) (2.6.0)\n",
            "Requirement already satisfied: requests<3,>=2 in /usr/local/lib/python3.10/dist-packages (from langchain) (2.31.0)\n",
            "Requirement already satisfied: tenacity<9.0.0,>=8.1.0 in /usr/local/lib/python3.10/dist-packages (from langchain) (8.2.3)\n",
            "Requirement already satisfied: aiosignal>=1.1.2 in /usr/local/lib/python3.10/dist-packages (from aiohttp<4.0.0,>=3.8.3->langchain) (1.3.1)\n",
            "Requirement already satisfied: attrs>=17.3.0 in /usr/local/lib/python3.10/dist-packages (from aiohttp<4.0.0,>=3.8.3->langchain) (23.2.0)\n",
            "Requirement already satisfied: frozenlist>=1.1.1 in /usr/local/lib/python3.10/dist-packages (from aiohttp<4.0.0,>=3.8.3->langchain) (1.4.1)\n",
            "Requirement already satisfied: multidict<7.0,>=4.5 in /usr/local/lib/python3.10/dist-packages (from aiohttp<4.0.0,>=3.8.3->langchain) (6.0.5)\n",
            "Requirement already satisfied: yarl<2.0,>=1.0 in /usr/local/lib/python3.10/dist-packages (from aiohttp<4.0.0,>=3.8.3->langchain) (1.9.4)\n",
            "Requirement already satisfied: marshmallow<4.0.0,>=3.18.0 in /usr/local/lib/python3.10/dist-packages (from dataclasses-json<0.7,>=0.5.7->langchain) (3.20.2)\n",
            "Requirement already satisfied: typing-inspect<1,>=0.4.0 in /usr/local/lib/python3.10/dist-packages (from dataclasses-json<0.7,>=0.5.7->langchain) (0.9.0)\n",
            "Requirement already satisfied: jsonpointer>=1.9 in /usr/local/lib/python3.10/dist-packages (from jsonpatch<2.0,>=1.33->langchain) (2.4)\n",
            "Requirement already satisfied: anyio<5,>=3 in /usr/local/lib/python3.10/dist-packages (from langchain-core<0.2,>=0.1.16->langchain) (3.7.1)\n",
            "Requirement already satisfied: packaging<24.0,>=23.2 in /usr/local/lib/python3.10/dist-packages (from langchain-core<0.2,>=0.1.16->langchain) (23.2)\n",
            "Requirement already satisfied: annotated-types>=0.4.0 in /usr/local/lib/python3.10/dist-packages (from pydantic<3,>=1->langchain) (0.6.0)\n",
            "Requirement already satisfied: pydantic-core==2.16.1 in /usr/local/lib/python3.10/dist-packages (from pydantic<3,>=1->langchain) (2.16.1)\n",
            "Requirement already satisfied: typing-extensions>=4.6.1 in /usr/local/lib/python3.10/dist-packages (from pydantic<3,>=1->langchain) (4.9.0)\n",
            "Requirement already satisfied: charset-normalizer<4,>=2 in /usr/local/lib/python3.10/dist-packages (from requests<3,>=2->langchain) (3.3.2)\n",
            "Requirement already satisfied: idna<4,>=2.5 in /usr/local/lib/python3.10/dist-packages (from requests<3,>=2->langchain) (3.6)\n",
            "Requirement already satisfied: urllib3<3,>=1.21.1 in /usr/local/lib/python3.10/dist-packages (from requests<3,>=2->langchain) (2.0.7)\n",
            "Requirement already satisfied: certifi>=2017.4.17 in /usr/local/lib/python3.10/dist-packages (from requests<3,>=2->langchain) (2024.2.2)\n",
            "Requirement already satisfied: greenlet!=0.4.17 in /usr/local/lib/python3.10/dist-packages (from SQLAlchemy<3,>=1.4->langchain) (3.0.3)\n",
            "Requirement already satisfied: sniffio>=1.1 in /usr/local/lib/python3.10/dist-packages (from anyio<5,>=3->langchain-core<0.2,>=0.1.16->langchain) (1.3.0)\n",
            "Requirement already satisfied: exceptiongroup in /usr/local/lib/python3.10/dist-packages (from anyio<5,>=3->langchain-core<0.2,>=0.1.16->langchain) (1.2.0)\n",
            "Requirement already satisfied: mypy-extensions>=0.3.0 in /usr/local/lib/python3.10/dist-packages (from typing-inspect<1,>=0.4.0->dataclasses-json<0.7,>=0.5.7->langchain) (1.0.0)\n"
          ]
        }
      ]
    },
    {
      "cell_type": "code",
      "source": [
        "!pip install -U -q google-generativeai"
      ],
      "metadata": {
        "id": "oXbdc-IEzKX4"
      },
      "execution_count": null,
      "outputs": []
    },
    {
      "cell_type": "code",
      "source": [
        "from google.colab import drive\n",
        "drive.mount('/content/drive')"
      ],
      "metadata": {
        "colab": {
          "base_uri": "https://localhost:8080/"
        },
        "id": "YQ4c_MaszP7-",
        "outputId": "fffc6a2f-6ec2-43c3-c768-d3ffdca2c81a"
      },
      "execution_count": null,
      "outputs": [
        {
          "output_type": "stream",
          "name": "stdout",
          "text": [
            "Drive already mounted at /content/drive; to attempt to forcibly remount, call drive.mount(\"/content/drive\", force_remount=True).\n"
          ]
        }
      ]
    },
    {
      "cell_type": "code",
      "source": [
        "import pathlib\n",
        "import textwrap\n",
        "\n",
        "import google.generativeai as genai\n",
        "from google.colab import drive\n",
        "\n",
        "from IPython.display import display\n",
        "from IPython.display import Markdown\n",
        "\n",
        "\n",
        "def to_markdown(text):\n",
        "  text = text.replace('•', '  *')\n",
        "  return Markdown(textwrap.indent(text, '> ', predicate=lambda _: True))"
      ],
      "metadata": {
        "id": "3X1VvU3QzWY-"
      },
      "execution_count": null,
      "outputs": []
    },
    {
      "cell_type": "code",
      "source": [
        "# Used to securely store your API key\n",
        "from google.colab import userdata"
      ],
      "metadata": {
        "id": "xGLmaVp_zbLi"
      },
      "execution_count": null,
      "outputs": []
    },
    {
      "cell_type": "code",
      "source": [
        "# prompt: mount gdrive\n",
        "\n",
        "drive.mount('/content/drive', force_remount=True)"
      ],
      "metadata": {
        "colab": {
          "base_uri": "https://localhost:8080/"
        },
        "id": "y0HHtm8wzdrt",
        "outputId": "09d513b0-35cc-401c-f98b-9bda289be08b"
      },
      "execution_count": null,
      "outputs": [
        {
          "output_type": "stream",
          "name": "stdout",
          "text": [
            "Mounted at /content/drive\n"
          ]
        }
      ]
    },
    {
      "cell_type": "code",
      "source": [
        "import json\n",
        "\n",
        "from google.oauth2 import service_account\n",
        "from langchain.chains.question_answering import load_qa_chain\n",
        "from langchain_community.llms.vertexai import VertexAI\n",
        "from langchain_core.documents import Document\n",
        "from langchain_core.prompts import PromptTemplate"
      ],
      "metadata": {
        "id": "HTlNRsALzgN-"
      },
      "execution_count": null,
      "outputs": []
    },
    {
      "cell_type": "code",
      "source": [
        "def service_account_json_for_palm(api_key_json):\n",
        "    credentials = None\n",
        "    project_id = None\n",
        "    try:\n",
        "        credentials = service_account.Credentials.from_service_account_info(\n",
        "            api_key_json)\n",
        "        project_id = credentials.project_id\n",
        "\n",
        "    except Exception as e:\n",
        "        print(e)\n",
        "    return credentials, project_id"
      ],
      "metadata": {
        "id": "erbXo9_izi9y"
      },
      "execution_count": null,
      "outputs": []
    },
    {
      "cell_type": "code",
      "source": [
        "api_key = {\n",
        "        \"type\": \"service_account\",\n",
        "        \"project_id\": os.getenv(\"PROJECT_ID\"),\n",
        "        \"private_key_id\": os.getenv(\"PRIVATE_KEY_ID\"),\n",
        "        \"private_key\": os.getenv(\"PRIVATE_KEY\").replace(\"\\\\n\", \"\\n\"),  # Handles newlines in environment variables\n",
        "        \"client_email\": os.getenv(\"CLIENT_EMAIL\"),\n",
        "        \"client_id\": os.getenv(\"CLIENT_ID\"),\n",
        "        \"auth_uri\": \"https://accounts.google.com/o/oauth2/auth\",\n",
        "        \"token_uri\": \"https://oauth2.googleapis.com/token\",\n",
        "        \"auth_provider_x509_cert_url\": \"https://www.googleapis.com/oauth2/v1/certs\",\n",
        "        \"client_x509_cert_url\": os.getenv(\"CLIENT_X509_CERT_URL\"),\n",
        "        \"universe_domain\": \"googleapis.com\"\n",
        "    }\n",
        "    return json.loads(json.dumps(api_key))\n",
        "\n",
        "if __name__ == \"__main__\":\n",
        "    api_key_json = load_credentials()\n",
        "    credentials, project_id = service_account_json_for_palm(api_key_json)\n",
        "    print(credentials, project_id)"
      ],
      "metadata": {
        "colab": {
          "base_uri": "https://localhost:8080/"
        },
        "id": "cHijAFj4zl52",
        "outputId": "81cad988-3971-4c8c-efec-85daa0e0644e"
      },
      "execution_count": null,
      "outputs": [
        {
          "output_type": "stream",
          "name": "stdout",
          "text": [
            "<google.oauth2.service_account.Credentials object at 0x7b27a752bfa0> spheric-rigging-408201\n"
          ]
        }
      ]
    },
    {
      "cell_type": "code",
      "source": [
        "from langchain_core.messages import HumanMessage\n",
        "from langchain_google_vertexai import ChatVertexAI"
      ],
      "metadata": {
        "id": "Yds7Vil0zzJa"
      },
      "execution_count": null,
      "outputs": []
    },
    {
      "cell_type": "code",
      "source": [
        "llm = ChatVertexAI(model_name=\"gemini-pro-vision\", credentials=credentials, project=project_id,\n",
        "                   streaming=False, temperature=0.0, n=1)"
      ],
      "metadata": {
        "id": "tAFzECwfJD4F"
      },
      "execution_count": null,
      "outputs": []
    },
    {
      "cell_type": "code",
      "source": [
        "# Load image URLs from an external file or environment variables\n",
        "image_urls = [\n",
        "    os.getenv(\"IMAGE_URL_1\", \"/default/path/to/image1.png\"),\n",
        "    os.getenv(\"IMAGE_URL_2\", \"/default/path/to/image2.png\"),\n",
        "    # Add more as needed or handle dynamically\n",
        "]\n",
        "\n",
        "prompt_message = {\n",
        "    \"type\": \"text\",\n",
        "    \"text\": (\n",
        "        \"I am a technical content writer and I want to create a simple user guide for users of the platform. \"\n",
        "        \"Objective: To interpret and understand all the images, generating a textual summary in user guide format. \"\n",
        "        \"Focus: A well-structured document providing brief info about each webpage and detailed descriptions of all fields, \"\n",
        "        \"including data types, constraints, and dropdown options. \"\n",
        "        \"Instructions:\\n\"\n",
        "        \"1. Introduction to the webpage and its goals.\\n\"\n",
        "        \"2. Well-structured guide with a purpose overview.\\n\"\n",
        "        \"3. Field-by-field explanations in layman's terms.\\n\"\n",
        "        \"4. Comprehensive yet user-friendly documentation for independent usage.\"\n",
        "    ),\n",
        "}\n",
        "\n",
        "image_messages = [\n",
        "    {\"type\": \"image_url\", \"image_url\": {\"url\": url}}\n",
        "    for url in image_urls if url  # Ensure valid URLs are processed\n",
        "]\n",
        "\n",
        "messages = [prompt_message] + image_messages\n",
        "message = {\n",
        "    \"content\": messages,\n",
        "    \"type\": \"HumanMessage\"\n",
        "}"
      ],
      "metadata": {
        "id": "xUBerA9eJGvZ"
      },
      "execution_count": null,
      "outputs": []
    },
    {
      "cell_type": "code",
      "source": [
        "output = llm([message])\n",
        "print(output.content)"
      ],
      "metadata": {
        "colab": {
          "base_uri": "https://localhost:8080/"
        },
        "id": "TehkDUejJMmK",
        "outputId": "325d0827-6009-4a22-9d81-79008e00874b"
      },
      "execution_count": null,
      "outputs": [
        {
          "output_type": "stream",
          "name": "stderr",
          "text": [
            "/usr/local/lib/python3.10/dist-packages/langchain_core/_api/deprecation.py:117: LangChainDeprecationWarning: The function `__call__` was deprecated in LangChain 0.1.7 and will be removed in 0.2.0. Use invoke instead.\n",
            "  warn_deprecated(\n"
          ]
        },
        {
          "output_type": "stream",
          "name": "stdout",
          "text": [
            " # Live Chat\n",
            "---\n",
            "## Setup\n",
            "The setup tab is where you can customize the look and feel of your live chat widget, as well as set up your routing rules.\n",
            "\n",
            "### General \n",
            "In the general section, you can upload a logo, set a chat window color, and choose a language for your live chat widget. You can also enable or disable the chat widget on specific pages of your website.\n",
            "\n",
            "### Routing\n",
            "In the routing section, you can set up rules to determine which agents are available to chat with customers. You can also set up a welcome message and a message that will be displayed to customers when all agents are offline.\n",
            "\n",
            "### Quick Reply\n",
            "In the quick reply section, you can create canned responses to common customer questions. This can help you save time and provide faster customer service.\n",
            "\n",
            "## Routing\n",
            "The routing tab is where you can set up rules to determine which agents are available to chat with customers. You can also set up a welcome message and a message that will be displayed to customers when all agents are offline.\n",
            "\n",
            "### Routing Rules\n",
            "In the routing rules section, you can create rules to determine which agents are available to chat with customers. You can base these rules on factors such as the customer's location, the time of day, and the type of chat request.\n",
            "\n",
            "### Welcome Message\n",
            "In the welcome message section, you can set up a message that will be displayed to customers when they first open the live chat widget. This message can be used to greet customers and provide them with information about your company and products.\n",
            "\n",
            "### Offline Message\n",
            "In the offline message section, you can set up a message that will be displayed to customers when all agents are offline. This message can be used to let customers know that you are not available to chat at the moment and provide them with information on how to contact you.\n",
            "\n",
            "## Quick Reply\n",
            "The quick reply tab is where you can create canned responses to common customer questions. This can help you save time and provide faster customer service.\n",
            "\n",
            "### Canned Responses\n",
            "In the canned responses section, you can create canned responses to common customer questions. These responses can be used to quickly and easily answer customer questions, without having to type out a new response each time.\n",
            "\n",
            "### Add Canned Response\n",
            "To add a canned response, simply click on the \"Add Canned Response\" button. In the modal that appears, enter a title for the canned response and the response itself. You can also choose to make the canned response available to all agents or only to specific agents.\n",
            "\n",
            "### Edit Canned Response\n",
            "To edit a canned response, simply click on the \"Edit\" button next to the canned response. In the modal that appears, you can change the title of the canned response, the response itself, and the agents who have access to the canned response.\n",
            "\n",
            "### Delete Canned Response\n",
            "To delete a canned response, simply click on the \"Delete\" button next to the canned response. In the modal that appears, confirm that you want to delete the canned response.\n"
          ]
        }
      ]
    },
    {
      "cell_type": "code",
      "source": [
        "!pip install markdown"
      ],
      "metadata": {
        "colab": {
          "base_uri": "https://localhost:8080/"
        },
        "id": "i12OWj8BYck7",
        "outputId": "10ccb697-7060-4c31-bbf2-6d93c3571f60"
      },
      "execution_count": null,
      "outputs": [
        {
          "output_type": "stream",
          "name": "stdout",
          "text": [
            "Requirement already satisfied: markdown in /usr/local/lib/python3.10/dist-packages (3.5.2)\n"
          ]
        }
      ]
    },
    {
      "cell_type": "code",
      "source": [
        "from google.colab import drive\n",
        "from google.colab import files\n",
        "import markdown"
      ],
      "metadata": {
        "id": "Vmne64tqBmnd"
      },
      "execution_count": null,
      "outputs": []
    },
    {
      "cell_type": "code",
      "source": [
        "markdown_content = output.content"
      ],
      "metadata": {
        "id": "x23NqBGiB-vG"
      },
      "execution_count": null,
      "outputs": []
    },
    {
      "cell_type": "code",
      "source": [
        "markdown_content_string = markdown.markdown(markdown_content)"
      ],
      "metadata": {
        "id": "BUPEUM2BCBsu"
      },
      "execution_count": null,
      "outputs": []
    },
    {
      "cell_type": "code",
      "source": [
        "with open('/content/drive/My Drive/Live.md', 'w') as file:\n",
        "    file.write(str(markdown_content))"
      ],
      "metadata": {
        "id": "QJ8XwslhCFNn"
      },
      "execution_count": null,
      "outputs": []
    },
    {
      "cell_type": "code",
      "source": [
        "!pandoc /content/drive/My\\ Drive/Live.md -o /content/drive/My\\ Drive/Live.docx"
      ],
      "metadata": {
        "id": "rxcSpKiqCJL1"
      },
      "execution_count": null,
      "outputs": []
    },
    {
      "cell_type": "code",
      "source": [
        "files.download('/content/drive/My Drive/Live.docx')"
      ],
      "metadata": {
        "colab": {
          "base_uri": "https://localhost:8080/",
          "height": 17
        },
        "id": "rLdZtkQzCN1N",
        "outputId": "8878492e-490e-448e-ebff-0031045f18a1"
      },
      "execution_count": null,
      "outputs": [
        {
          "output_type": "display_data",
          "data": {
            "text/plain": [
              "<IPython.core.display.Javascript object>"
            ],
            "application/javascript": [
              "\n",
              "    async function download(id, filename, size) {\n",
              "      if (!google.colab.kernel.accessAllowed) {\n",
              "        return;\n",
              "      }\n",
              "      const div = document.createElement('div');\n",
              "      const label = document.createElement('label');\n",
              "      label.textContent = `Downloading \"${filename}\": `;\n",
              "      div.appendChild(label);\n",
              "      const progress = document.createElement('progress');\n",
              "      progress.max = size;\n",
              "      div.appendChild(progress);\n",
              "      document.body.appendChild(div);\n",
              "\n",
              "      const buffers = [];\n",
              "      let downloaded = 0;\n",
              "\n",
              "      const channel = await google.colab.kernel.comms.open(id);\n",
              "      // Send a message to notify the kernel that we're ready.\n",
              "      channel.send({})\n",
              "\n",
              "      for await (const message of channel.messages) {\n",
              "        // Send a message to notify the kernel that we're ready.\n",
              "        channel.send({})\n",
              "        if (message.buffers) {\n",
              "          for (const buffer of message.buffers) {\n",
              "            buffers.push(buffer);\n",
              "            downloaded += buffer.byteLength;\n",
              "            progress.value = downloaded;\n",
              "          }\n",
              "        }\n",
              "      }\n",
              "      const blob = new Blob(buffers, {type: 'application/binary'});\n",
              "      const a = document.createElement('a');\n",
              "      a.href = window.URL.createObjectURL(blob);\n",
              "      a.download = filename;\n",
              "      div.appendChild(a);\n",
              "      a.click();\n",
              "      div.remove();\n",
              "    }\n",
              "  "
            ]
          },
          "metadata": {}
        },
        {
          "output_type": "display_data",
          "data": {
            "text/plain": [
              "<IPython.core.display.Javascript object>"
            ],
            "application/javascript": [
              "download(\"download_39de2feb-dbc5-4410-9066-f5b92d3e9611\", \"Live.docx\", 10911)"
            ]
          },
          "metadata": {}
        }
      ]
    }
  ]
}